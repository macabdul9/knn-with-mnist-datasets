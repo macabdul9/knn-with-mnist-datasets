{
 "cells": [
  {
   "cell_type": "markdown",
   "metadata": {},
   "source": [
    "# MNIST KNN"
   ]
  },
  {
   "cell_type": "code",
   "execution_count": 1,
   "metadata": {},
   "outputs": [],
   "source": [
    "import numpy as np\n",
    "import pandas as pd\n",
    "import matplotlib.pyplot as plt"
   ]
  },
  {
   "cell_type": "code",
   "execution_count": 2,
   "metadata": {},
   "outputs": [],
   "source": [
    "df_train = pd.read_csv(\"dataset/MNIST/train.csv\")\n",
    "df_test = pd.read_csv(\"dataset/MNIST/test.csv\")"
   ]
  },
  {
   "cell_type": "code",
   "execution_count": 3,
   "metadata": {},
   "outputs": [],
   "source": [
    "# training image data\n",
    "X = np.array(df_train)[:, 1:]\n",
    "\n",
    "# image label\n",
    "Y = np.array(df_train)[:, 0]"
   ]
  },
  {
   "cell_type": "code",
   "execution_count": 4,
   "metadata": {},
   "outputs": [
    {
     "data": {
      "text/plain": [
       "array([[0, 0, 0, ..., 0, 0, 0],\n",
       "       [0, 0, 0, ..., 0, 0, 0],\n",
       "       [0, 0, 0, ..., 0, 0, 0],\n",
       "       ...,\n",
       "       [0, 0, 0, ..., 0, 0, 0],\n",
       "       [0, 0, 0, ..., 0, 0, 0],\n",
       "       [0, 0, 0, ..., 0, 0, 0]])"
      ]
     },
     "execution_count": 4,
     "metadata": {},
     "output_type": "execute_result"
    }
   ],
   "source": [
    "X"
   ]
  },
  {
   "cell_type": "code",
   "execution_count": 5,
   "metadata": {},
   "outputs": [
    {
     "data": {
      "image/png": "[encoded data removed]",
      "text/plain": [
       "<Figure size 432x288 with 1 Axes>"
      ]
     },
     "metadata": {
      "needs_background": "light"
     },
     "output_type": "display_data"
    }
   ],
   "source": [
    "plt.imshow(X[1000].reshape((28,28)), cmap=\"gray\");"
   ]
  },
  {
   "cell_type": "code",
   "execution_count": 6,
   "metadata": {},
   "outputs": [
    {
     "data": {
      "text/plain": [
       "(42000,)"
      ]
     },
     "execution_count": 6,
     "metadata": {},
     "output_type": "execute_result"
    }
   ],
   "source": [
    "Y.shape"
   ]
  },
  {
   "cell_type": "code",
   "execution_count": 7,
   "metadata": {},
   "outputs": [
    {
     "data": {
      "text/plain": [
       "(42000, 785)"
      ]
     },
     "execution_count": 7,
     "metadata": {},
     "output_type": "execute_result"
    }
   ],
   "source": [
    "df_train.shape"
   ]
  },
  {
   "cell_type": "code",
   "execution_count": 8,
   "metadata": {},
   "outputs": [
    {
     "data": {
      "text/plain": [
       "(28000, 784)"
      ]
     },
     "execution_count": 8,
     "metadata": {},
     "output_type": "execute_result"
    }
   ],
   "source": [
    "df_test.shape"
   ]
  },
  {
   "cell_type": "code",
   "execution_count": 9,
   "metadata": {},
   "outputs": [],
   "source": [
    "test = np.array(df_test)"
   ]
  },
  {
   "cell_type": "code",
   "execution_count": 10,
   "metadata": {},
   "outputs": [],
   "source": [
    "# distance function to calculate the distance between two points in euclidean space having n dimensions(784 in this case)\n",
    "def distance(p1, p2):\n",
    "    return np.sum((p2 - p1)**2)**.5\n"
   ]
  },
  {
   "cell_type": "code",
   "execution_count": 11,
   "metadata": {},
   "outputs": [],
   "source": [
    "# knn function to find the k nearest points to the input point\n",
    "# first we will calc distance from input to each training data point then sort(obv in increasing order) them and take \n",
    "# first k and make predictions based upon them\n",
    "\n",
    "def knn(X , Y, test , k = 500):\n",
    "    # it will have the distance( from the input point ) and label of each point as tuple ie : (distance, label)\n",
    "    d = []\n",
    "    r = X.shape[0]\n",
    "    for i in range(r):\n",
    "        d.append((distance(test, X[i]), Y[i]))\n",
    "        \n",
    "    # l is the list of sorted distance label\n",
    "    l = np.array(sorted(d))[:, 1]\n",
    "    l = l[:k]\n",
    "    u = np.unique(l, return_counts = True)\n",
    "    \n",
    "    # convert the unique labels with their frequency into key value pair\n",
    "    freq_dict = dict()\n",
    "    for i in range(len(u[0])):\n",
    "        freq_dict[u[0][i]] = u[1][i]\n",
    "    \n",
    "    # get the key whose value is maxmimum in the dictionary\n",
    "    pred = int(max(freq_dict, key = freq_dict.get))\n",
    "    \n",
    "    accuracy = int(freq_dict[pred])\n",
    "    \n",
    "    percentage_accuracy = int((accuracy/k)*100)\n",
    "    \n",
    "    print(\"I can say with %d%% of accurancy that test input is %d\" %(percentage_accuracy, pred))\n",
    "    \n",
    "    return freq_dict\n",
    "\n",
    "\n",
    "    \n",
    "    \n",
    "    \n",
    "    "
   ]
  },
  {
   "cell_type": "code",
   "execution_count": 12,
   "metadata": {},
   "outputs": [
    {
     "name": "stdout",
     "output_type": "stream",
     "text": [
      "I can say with 96% of accurancy that test input is 3\n"
     ]
    },
    {
     "data": {
      "text/plain": [
       "{3.0: 483, 5.0: 12, 8.0: 1, 9.0: 4}"
      ]
     },
     "execution_count": 12,
     "metadata": {},
     "output_type": "execute_result"
    }
   ],
   "source": [
    "knn(X, Y, test[1134])"
   ]
  },
  {
   "cell_type": "code",
   "execution_count": 13,
   "metadata": {},
   "outputs": [
    {
     "data": {
      "image/png": "[encoded data removed]",
      "text/plain": [
       "<Figure size 432x288 with 1 Axes>"
      ]
     },
     "metadata": {
      "needs_background": "light"
     },
     "output_type": "display_data"
    }
   ],
   "source": [
    "plt.imshow(test[1134].reshape(28, 28), cmap = \"gray\");"
   ]
  },
  {
   "cell_type": "code",
   "execution_count": 22,
   "metadata": {},
   "outputs": [],
   "source": [
    "import matplotlib.image as img \n",
    "import cv2"
   ]
  },
  {
   "cell_type": "code",
   "execution_count": 23,
   "metadata": {},
   "outputs": [],
   "source": [
    "# reading the following images and storing them into a list\n",
    "img_name = [\"zero\", \"one\", \"two\", \"three\", \"four\", \"five\", \"six\", \"seven\", \"eight\"]\n",
    "abs_path = \"dataset/MNIST/\"\n",
    "grid = []\n",
    "for each in img_name:\n",
    "    grid.append(img.imread(abs_path + each + \".jpg\"))"
   ]
  },
  {
   "cell_type": "code",
   "execution_count": 24,
   "metadata": {},
   "outputs": [],
   "source": [
    "# convert the rgb into gray code resulting 3D matrix into 2D\n",
    "for i in range(len(grid)):\n",
    "    grid[i] = cv2.cvtColor(grid[i], cv2.COLOR_RGB2GRAY)"
   ]
  },
  {
   "cell_type": "code",
   "execution_count": 27,
   "metadata": {},
   "outputs": [
    {
     "data": {
      "image/png": "[encoded data removed]",
      "text/plain": [
       "<Figure size 432x288 with 9 Axes>"
      ]
     },
     "metadata": {
      "needs_background": "light"
     },
     "output_type": "display_data"
    }
   ],
   "source": [
    "# just for the sake of visualization, showing these images into a grid\n",
    "f, axarr = plt.subplots(3,3) # figsize(x, y) for size of each\n",
    "n = 0;\n",
    "for i in range(3):\n",
    "        for j in range(3):\n",
    "            axarr[i, j].imshow(grid[n], cmap = \"gray\")\n",
    "            n = n + 1"
   ]
  },
  {
   "cell_type": "code",
   "execution_count": 33,
   "metadata": {},
   "outputs": [],
   "source": [
    "# convert each 28x28 image matrix into an array\n",
    "\n",
    "for i in range(len(grid)):\n",
    "    grid[i] = grid[i].flatten()\n"
   ]
  },
  {
   "cell_type": "code",
   "execution_count": 35,
   "metadata": {},
   "outputs": [
    {
     "data": {
      "text/plain": [
       "(784,)"
      ]
     },
     "execution_count": 35,
     "metadata": {},
     "output_type": "execute_result"
    }
   ],
   "source": [
    "grid[6].shape"
   ]
  },
  {
   "cell_type": "code",
   "execution_count": 38,
   "metadata": {},
   "outputs": [
    {
     "name": "stdout",
     "output_type": "stream",
     "text": [
      "I can say with 96% of accurancy that test input is 1\n"
     ]
    },
    {
     "data": {
      "text/plain": [
       "{1.0: 483, 2.0: 2, 3.0: 2, 4.0: 1, 5.0: 5, 6.0: 3, 7.0: 2, 9.0: 2}"
      ]
     },
     "execution_count": 38,
     "metadata": {},
     "output_type": "execute_result"
    }
   ],
   "source": [
    "knn(X, Y, grid[1])"
   ]
  },
  {
   "cell_type": "code",
   "execution_count": null,
   "metadata": {},
   "outputs": [],
   "source": []
  }
 ],
 "metadata": {
  "kernelspec": {
   "display_name": "Python 3",
   "language": "python",
   "name": "python3"
  },
  "language_info": {
   "codemirror_mode": {
    "name": "ipython",
    "version": 3
   },
   "file_extension": ".py",
   "mimetype": "text/x-python",
   "name": "python",
   "nbconvert_exporter": "python",
   "pygments_lexer": "ipython3",
   "version": "3.6.7"
  }
 },
 "nbformat": 4,
 "nbformat_minor": 2
}
